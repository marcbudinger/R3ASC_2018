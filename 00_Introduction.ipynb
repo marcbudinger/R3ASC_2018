{
 "cells": [
  {
   "cell_type": "markdown",
   "metadata": {},
   "source": [
    "<center>\n",
    "<img src=\"./pictures/ICA.png\" style=\"float:left; max-width: 80px; display: inline\" alt=\"ICA\" /></a> \n",
    "<a href=\"https://r3asc18.sciencesconf.org/\" ><img src=\"./pictures/web_R3ASC_20.jpg\" style=\"max-width: 500px; display: inline\"  alt=\"R3ASC\"/></a> \n",
    "<img src=\"./pictures/logo-insa.jpg\" style=\"float:right; max-width: 120px; display: inline\" alt=\"INSA\" /></a>\n",
    "</center>"
   ]
  },
  {
   "cell_type": "markdown",
   "metadata": {},
   "source": [
    "# Preliminary design of a thrust vector control actuator (TVCA)\n",
    "\n",
    "*This set of documents aims at to give an introduction on the use of Python and Jupyter notebooks for the preliminary design of actuations systems.*\n",
    "\n",
    "*Written by Marc Budinger, INSA Toulouse, France*\n",
    "\n",
    "## Introduction to the case of study\n",
    "\n",
    "This case study is inspired by an electromechanical actuation system used to control the thrust vector of the VEGA launcher.  \n",
    "\n",
    "*Vega launcher (from [ESA presentation](http://www.ingaero.uniroma1.it/attachments/1609_VEGA%20%20sapienza%20small.pdf))*\n",
    "![P80](./pictures/VEGA_Ariane.jpg)\n",
    "\n",
    "A description of this TVC system is given in the [following article](http://esmats.eu/esmatspapers/pastpapers/pdfs/2009/vanthuyne.pdf):  \n",
    ">*Vanthuyne, T. (2009). An electrical thrust vector control system for the VEGA launcher. In Proceeding of 13th European Space Mechanisms and Tribology Symposium, ESMATS (pp. 23-25).*  \n"
   ]
  },
  {
   "cell_type": "markdown",
   "metadata": {},
   "source": [
    "## Table of contents\n",
    "\n",
    "1. [Architecture of the actuator and sizing scenarios](01_SizingScenarios.ipynb)\n",
    "2. [Modeling of the mechanical load](02_MechanicalLoad.ipynb)\n",
    "3. [Estimation models with scaling laws](03_EstimationModels.ipynb)\n",
    "4. [Surrogate model of the housing](04_SurrogateModels.ipynb)\n",
    "5. [Sizing code and design exploration](05_SizingDesignExploration.ipynb)\n"
   ]
  },
  {
   "cell_type": "markdown",
   "metadata": {},
   "source": [
    "## Remarks\n",
    "\n",
    "This document has been written with Jupyter Notebook. The Jupyter Notebook is an open-source web application that allows you to create and share documents that contain live code, equations, visualizations and narrative text. \n",
    "\n",
    "More informations about Jupyter can be found [here](http://jupyter.org/).\n",
    "\n",
    "The \"live\" code is python 3 with numpy, scipy packages. Jupyter and a lot of scientific packages are included in the [Anaconda](https://www.anaconda.com/what-is-anaconda/) python distribution. \n",
    "\n",
    "The narrative text is formatting with markdown section. Here is a short tutorial about the use of the [markdown](http://www.markdowntutorial.com) standard.\n"
   ]
  },
  {
   "cell_type": "code",
   "execution_count": null,
   "metadata": {
    "collapsed": true
   },
   "outputs": [],
   "source": []
  }
 ],
 "metadata": {
  "kernelspec": {
   "display_name": "Python 3",
   "language": "python",
   "name": "python3"
  },
  "language_info": {
   "codemirror_mode": {
    "name": "ipython",
    "version": 3
   },
   "file_extension": ".py",
   "mimetype": "text/x-python",
   "name": "python",
   "nbconvert_exporter": "python",
   "pygments_lexer": "ipython3",
   "version": "3.6.4"
  }
 },
 "nbformat": 4,
 "nbformat_minor": 2
}
