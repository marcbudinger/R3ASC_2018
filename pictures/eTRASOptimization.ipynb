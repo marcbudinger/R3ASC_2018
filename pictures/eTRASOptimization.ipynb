{
 "cells": [
  {
   "cell_type": "markdown",
   "metadata": {},
   "source": [
    "# Dimensionnement simplifié d'un eTRAS"
   ]
  },
  {
   "cell_type": "markdown",
   "metadata": {},
   "source": [
    "Nous allons nous intéressé au dimensionnement d'un eTRAS constitué :\n",
    "- de 2 demi capots guidés en translation par des glissières\n",
    "- d'1 moteur brushless sinusoidal\n",
    "- d'un ensemble de flexshafts\n",
    "- de 6 vérins linéaires constitué chacun par un réducteur à renvoi d'angle et une vis à billes, d'un tube liant l'écrou de la vis à bille et l'embout du verin linéaire."
   ]
  },
  {
   "cell_type": "code",
   "execution_count": 2,
   "metadata": {
    "collapsed": true
   },
   "outputs": [],
   "source": [
    "import scipy\n",
    "import scipy.optimize\n",
    "from math import pi\n",
    "import timeit\n"
   ]
  },
  {
   "cell_type": "markdown",
   "metadata": {},
   "source": [
    "## Specifications\n"
   ]
  },
  {
   "cell_type": "markdown",
   "metadata": {},
   "source": [
    "L'extension de l'eTRAS doit se réaliser en un temps $t_e=2.5s$ sur une distance $d=0.87m$.\n",
    "Les efforts aérodynamiques évoluent linéairement entre une valeur en retraction $F_r=-10000N$, mettant en compression le verin, et une valeur en extension $F_e=30000N$, mettant le vérin en tension. "
   ]
  },
  {
   "cell_type": "code",
   "execution_count": 8,
   "metadata": {
    "collapsed": false
   },
   "outputs": [
    {
     "name": "stdout",
     "output_type": "stream",
     "text": [
      "L effort inertiel maximal est de 251 N\n"
     ]
    }
   ],
   "source": [
    "# Cahier des charges\n",
    "\n",
    "# Efforts aero sur un demi-capot\n",
    "F_r=-10e3   # [N]\n",
    "F_e=+30e3   # [N]\n",
    "\n",
    "# Masse d'un demi-capot\n",
    "Mcapot=400.  # [kg]\n",
    "\n",
    "# Profil mission\n",
    "d=.87 # [m]\n",
    "t_e=2.5   # [s]\n",
    "\n",
    "# Vitesse et acceleration de la charge pour un profil trapézoidal en vitesse (1/3 1/3 1/3)\n",
    "vmax=3/2*d/t_e\n",
    "amax=9/2*d/t_e**2\n",
    "\n",
    "# Calcul de l'effort inertiel du demi-capot\n",
    "print('L effort inertiel maximal est de %3.0f N'% (amax*Mcapot))"
   ]
  },
  {
   "cell_type": "markdown",
   "metadata": {},
   "source": [
    "L'effort inertiel du capot est négligeable. Par contre celui du moteur ne le sera pas."
   ]
  },
  {
   "cell_type": "markdown",
   "metadata": {},
   "source": [
    "## Scenarios"
   ]
  },
  {
   "cell_type": "markdown",
   "metadata": {
    "collapsed": true
   },
   "source": [
    "On va considérer 2 scénarios :\n",
    "- un pour les efforts mécaniques maximaux : grippage d'une glissière de capot pour la vitesse maximal du profil d'extension\n",
    "- un pour la thermique et la vitesse maximale du moteur : profil d'extension / retraction avec efforts aero maximaux\n",
    "\n",
    "Pour ces scenarios, on peut négliger :\n",
    "- la masse du capot et le frottement de la glissiere\n",
    "- l'inertie en rotation de la vis\n",
    "- la raideur du tube, les raideurs des supports\n",
    "\n",
    "On ne peut pas negliger :\n",
    "- la raideur des flex shaft\n",
    "- la raideur des vis\n",
    "- l'inertie du moteur\n"
   ]
  },
  {
   "cell_type": "code",
   "execution_count": 8,
   "metadata": {
    "collapsed": false
   },
   "outputs": [
    {
     "data": {
      "text/plain": [
       "12253.314531589067"
      ]
     },
     "execution_count": 8,
     "metadata": {},
     "output_type": "execute_result"
    }
   ],
   "source": [
    "320e-5*2.5**2/(6.35e-3/2/3.14)**2*amax\n"
   ]
  },
  {
   "cell_type": "markdown",
   "metadata": {
    "collapsed": true
   },
   "source": [
    "## Composants de référence"
   ]
  },
  {
   "cell_type": "markdown",
   "metadata": {},
   "source": [
    "### Vis à billes"
   ]
  },
  {
   "cell_type": "markdown",
   "metadata": {},
   "source": [
    "On part sur une vis à bille de type SKF pouvant supporter un effort statique égal à 2 fois l'effort global soit 60 kN.\n",
    "Il existe une réference SKF ayant les caractéristiques suivantes \n",
    "- static load C0 = 65 kN\n",
    "- dynamic load Cd = 24.3 kN\n",
    "- nominal diameter d0=45 mm\n",
    "- root diameter d2=36.7 mm\n",
    "- pitch / lead p = 5 mm/rev\n",
    "- inertia J = 1639 kg.mm² / m"
   ]
  },
  {
   "cell_type": "markdown",
   "metadata": {},
   "source": [
    "### Moteur\n",
    "\n"
   ]
  },
  {
   "cell_type": "markdown",
   "metadata": {},
   "source": [
    "Pour les applications numériques, on utilisera les paramètres moteurs du Parvex NX820EAR :  \n",
    "- Low speed torque 16 N.m  \n",
    "- Max speed 4500 rpm N  \n",
    "- DC voltage supply when motor is loaded 620 V  \n",
    "- Permanent current at low speed 15.5 Â  \n",
    "- Peak current 32 Â  \n",
    "- Back emf constant at 1000 rpm (25°C)* 129 V   \n",
    "- Torque sensitivity 1.03 N.m/Â  \n",
    "- Winding resistance(25°C) 1.01 Ω  \n",
    "- Winding inductance 8.57 mH   \n",
    "- Rotor inertia 320 kg.m².10-5  \n",
    "- Thermal time constant 34 min  \n",
    "- Motor mass 13 kg  \n",
    "\n",
    "Les résistances et inductances sont mesurées entre phases. Les tensions et courants sont données en valeurs max. Le nombre de paires de pôles est 5.\n"
   ]
  },
  {
   "cell_type": "markdown",
   "metadata": {},
   "source": [
    "## Flex shaft"
   ]
  },
  {
   "cell_type": "markdown",
   "metadata": {},
   "source": [
    "\n",
    "- Souplesse linéique : 0.22 (rad/N.m) pour 1 m \n",
    "- Couple max : 24.8 N.m\n",
    "- Diametre : 9.5 mm\n",
    "- Vitesse maximale : 20000 rpm\n",
    "- Masse linéique : 0.48 kg/m\n",
    "\n",
    "\n",
    "\n"
   ]
  },
  {
   "cell_type": "code",
   "execution_count": null,
   "metadata": {
    "collapsed": true
   },
   "outputs": [],
   "source": []
  }
 ],
 "metadata": {
  "kernelspec": {
   "display_name": "Python 3",
   "language": "python",
   "name": "python3"
  },
  "language_info": {
   "codemirror_mode": {
    "name": "ipython",
    "version": 3
   },
   "file_extension": ".py",
   "mimetype": "text/x-python",
   "name": "python",
   "nbconvert_exporter": "python",
   "pygments_lexer": "ipython3",
   "version": "3.6.0"
  }
 },
 "nbformat": 4,
 "nbformat_minor": 2
}
