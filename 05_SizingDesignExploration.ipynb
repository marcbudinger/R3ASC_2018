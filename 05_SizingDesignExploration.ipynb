{
 "cells": [
  {
   "cell_type": "markdown",
   "metadata": {},
   "source": [
    "<center>\n",
    "<img src=\"./pictures/ICA.png\" style=\"float:left; max-width: 80px; display: inline\" alt=\"ICA\" /></a> \n",
    "<a href=\"https://r3asc18.sciencesconf.org/\" ><img src=\"./pictures/web_R3ASC_20.png\" style=\"max-width: 500px; display: inline\"  alt=\"R3ASC\"/></a> \n",
    "<img src=\"./pictures/logo-insa.jpg\" style=\"float:right; max-width: 120px; display: inline\" alt=\"INSA\" /></a>\n",
    "</center>"
   ]
  },
  {
   "cell_type": "markdown",
   "metadata": {},
   "source": [
    "# Optimization of a motor/reducer set for a high dynamic application\n",
    "*Written by Marc Budinger, INSA Toulouse, France*"
   ]
  },
  {
   "cell_type": "markdown",
   "metadata": {},
   "source": [
    "For applications wigh high bandwith mission profile and with high acceleration, the choice of a motor and a gearbox depends on a compromise function of the motor inertia and the reduction ratio.  \n",
    "\n",
    "**Scipy** and **math** packages will be used for this notebook in order to illustrate the optimization algorithms of python."
   ]
  },
  {
   "cell_type": "code",
   "execution_count": 2,
   "metadata": {},
   "outputs": [],
   "source": [
    "import scipy\n",
    "import scipy.optimize\n",
    "from math import pi\n",
    "import timeit"
   ]
  },
  {
   "cell_type": "markdown",
   "metadata": {},
   "source": [
    "## Objectives and specifications\n",
    "\n",
    "The objective is to select the reduction ratio of a gear reducer in order to minimize the mass of the motor.\n",
    "\n",
    "The application have to ensure :\n",
    "- a max force $F_{load}$ of $73 kN$ and a max acceleration of $a_{max}=11.7 m/s²$  \n",
    "- a max speed $v_{max}$ of 0.22 m/s\n",
    "\n",
    "We will give here an example based on a linear actuator with a preselected roller screw (pitch of 10 mm/rev).\n",
    "We assume here, for simplification, the efficiency equal to 100%.\n",
    "\n",
    "*EMA components:*\n",
    "![EMA](./pictures/EMA_VEGA.png)\n"
   ]
  },
  {
   "cell_type": "code",
   "execution_count": 83,
   "metadata": {},
   "outputs": [],
   "source": [
    "# Specifications\n",
    "Max_speed=.22     # [m/s] max speed\n",
    "Max_acceleration=11.7   # [m/s²] max acceleration (comined with max force)\n",
    "Max_load=73000    # [N] max force\n",
    " \n",
    "# Assumptions\n",
    "Pitch=10e-3/2/pi  # [m/rad] roller screw pitch\n"
   ]
  },
  {
   "cell_type": "markdown",
   "metadata": {},
   "source": [
    "## Equations\n",
    "\n",
    "#### Sizing scenarios \n",
    "\n",
    "The brushless electric motor will be sized considering the maximum transient torque it has to deliver $T_{max}$. This torque is calculated as the sum of maximal transient application load demand $T_{load}$ and the additional inertia load, product of the motor inertia $J_{mot}$ and its acceleration rate:\n",
    "\n",
    "$T_{max}=T_{load}+J_{mot}.\\left(\\frac{d\\Omega}{dt}\\right)_{max}$\n",
    "\n",
    "where:\n",
    "- $T_{load}=F_{load}.p$ \n",
    "- $\\left(\\frac{d\\Omega}{dt}\\right)_{max}=p.a_{max}$  \n",
    "with $p$ the pitch in $[m/rad]$\n",
    "\n",
    "The maximal speed of the motor have also to be compared to the maximal speed requested by the application:  \n",
    "$\\Omega_{max,motor}>p.v_{max}$\n",
    "\n",
    "#### Parameter estimation with scaling laws\n",
    "\n",
    "The needed characterics of the motor can be estinated through the following scaling laws:\n",
    "\n",
    "$M_{mot}=M_{ref}.\\left(\\frac{T_{max}}{T_{max,ref}}\\right)^{3/3.5}$  \n",
    "$J_{mot}=J_{ref}.\\left(\\frac{T_{max}}{T_{max,ref}}\\right)^{5/3.5}$  \n",
    "$\\Omega_{max,motor}=\\Omega_{ref}.\\left(\\frac{T_{max}}{T_{max,ref}}\\right)^{-1/3.5}$  \n",
    "\n",
    "where the reference values are: $T_{max,ref}=13.4 N.m$, $\\Omega_{ref}=754 rad/s$, $J_{ref}=2.9.10^{-4} kg.m^2$, $M_{ref}=3.8 kg$.\n"
   ]
  },
  {
   "cell_type": "markdown",
   "metadata": {},
   "source": [
    "## Sizing code\n",
    "\n",
    "An algebraic loop appears in the previous equations since the selection torque of the motor and the inertia of the motor are linked. To break the loop, an oversizing coefficient can be introduced to adapt equation and reuse the original one as a constraint: \n",
    "\n",
    "$T_{max}=T_{load}+J_{mot}.\\left(\\frac{d\\Omega}{dt}\\right)_{max}$  \n",
    "becomes:  \n",
    "- $T_{max}=k_{ov}.T_{load}$  \n",
    "- $T_{max}>T_{load}+J_{mot}.\\left(\\frac{d\\Omega}{dt}\\right)_{max}$  \n",
    "\n",
    "The final optimization problem depends thus of 2 parameters:\n",
    "- the reduction ratio of the gearbox $N$\n",
    "- the oversizing coefficient of the motor $k_{ov}$\n",
    "\n",
    "More details in the setting up of sizing code can be found in the  [following paper](https://www.researchgate.net/profile/Marc_Budinger/publication/277933677_Computer-aided_definition_of_sizing_procedures_and_optimization_problems_of_mechatronic_systems/links/55969de508ae793d137c7ea5/Computer-aided-definition-of-sizing-procedures-and-optimization-problems-of-mechatronic-systems.pdf):  \n",
    "\n",
    "> Reysset, A., Budinger, M., & Maré, J. C. (2015). Computer-aided definition of sizing procedures and optimization problems of mechatronic systems. Concurrent Engineering, 23(4), 320-332.\n",
    "\n",
    "The sizing code is defined here in a function which can give:\n",
    "- an evaluation of the objective: here the motor mass\n",
    "- an evaluation of the constraints: here the speed margin and the torque margin\n"
   ]
  },
  {
   "cell_type": "code",
   "execution_count": 84,
   "metadata": {},
   "outputs": [],
   "source": [
    "# Reference parameters for scaling laws\n",
    "Tmax_ref=13.4    # [N.m]\n",
    "Wmax_ref=754    # [rad/s]\n",
    "Jref=2.9e-4/4     # [kg.m²]\n",
    "Mref=3.8        # [kg]\n",
    "\n",
    "# -----------------------\n",
    "# sizing code\n",
    "# -----------------------\n",
    "# inputs: \n",
    "# - param: optimisation variables vector (reduction ratio, oversizing coefficient)\n",
    "# - arg: selection of output  \n",
    "# output: \n",
    "# - objective if arg='Obj', problem characteristics if arg='Prt', constraints other else\n",
    "\n",
    "def SizingCode(param, arg):\n",
    "#  Variables\n",
    "    N_reduc=param[0]\n",
    "    k_oversizing=param[1]\n",
    "\n",
    "# Torque motor estimation\n",
    "    Tem_est= k_oversizing*Max_load*Pitch/N_reduc\n",
    "\n",
    "# Scaling laws    \n",
    "    Mass=Mref*(Tem_est/Tmax_ref)**(3/3.5)\n",
    "    Inertia=Jref*(Tem_est/Tmax_ref)**(5/3.5)\n",
    "    Speed=Wmax_ref*(Tem_est/Tmax_ref)**(-1/3.5)\n",
    "\n",
    "# Exact torque calculation with motor inertia\n",
    "    Tem_max=Max_load*Pitch/N_reduc+Inertia*Max_acceleration*N_reduc/Pitch\n",
    "\n",
    "# Objective and contraints\n",
    "    if arg=='Obj':\n",
    "        return Mass/10\n",
    "    elif arg=='Prt':\n",
    "        print(\"* Optimisation variables:\")\n",
    "        print(\"           Reduction ratio N_reduc = %.2f\"% N_reduc)\n",
    "        print(\"           Oversizing coefficient k_oversizing = %.2f\"% k_oversizing)\n",
    "        print(\"* Components characteristics:\")\n",
    "        print(\"           Motor torque = %.2f N.m\" % Tem_est)\n",
    "        print(\"           Motor mass = %.2f kg\" % Mass)\n",
    "        print(\"* Constraints (should be >0):\")\n",
    "        print(\"           Speed margin Speed_motor-N_reduc*Max_speed/Pitch= %.3f\" % (Speed-N_reduc*Max_speed/Pitch))\n",
    "        print(\"           Torque margin Tem_est-Tem_max= %.3f \" %(Tem_est-Tem_max))\n",
    "    else:\n",
    "        return [Speed-N_reduc*Max_speed/Pitch, Tem_est-Tem_max]\n"
   ]
  },
  {
   "cell_type": "markdown",
   "metadata": {},
   "source": [
    "## Optimization problem\n"
   ]
  },
  {
   "cell_type": "markdown",
   "metadata": {},
   "source": [
    "We will now use the [opmization algorithms](https://docs.scipy.org/doc/scipy/reference/optimize.html) of the Scipy package to solve and optimize the configuration. We use here the SLQP algorithm without explicit expression of the gradient (Jacobian). A short course on Multidisplinary Gradient optimization algorithms and gradient optimization algorithm is given [here](http://mdolab.engin.umich.edu/sites/default/files/Martins-MDO-course-notes.pdf):\n",
    "> Joaquim R. R. A. Martins (2012). A Short Course on Multidisciplinary Design Optimization. Univeristy of Michigan\n"
   ]
  },
  {
   "cell_type": "markdown",
   "metadata": {},
   "source": [
    "The first step is to give an initial value of optimisation variables:"
   ]
  },
  {
   "cell_type": "code",
   "execution_count": 85,
   "metadata": {},
   "outputs": [],
   "source": [
    "#Variables d'optimisation\n",
    "N_reduc=2\n",
    "k_oversizing=3\n",
    "\n",
    "# Vector of parameters\n",
    "parameters = scipy.array((N_reduc, k_oversizing))\n"
   ]
  },
  {
   "cell_type": "markdown",
   "metadata": {},
   "source": [
    "We can print of the characterisitcs of the problem before optimization with the intitial vector of optimization variables:"
   ]
  },
  {
   "cell_type": "code",
   "execution_count": 86,
   "metadata": {},
   "outputs": [
    {
     "name": "stdout",
     "output_type": "stream",
     "text": [
      "-----------------------------------------------\n",
      "Initial characteristics before optimization :\n",
      "* Optimisation variables:\n",
      "           Reduction ratio N_reduc = 2.00\n",
      "           Oversizing coefficient k_oversizing = 3.00\n",
      "* Components characteristics:\n",
      "           Motor torque = 174.27 N.m\n",
      "           Motor mass = 34.26 kg\n",
      "* Constraints (should be >0):\n",
      "           Speed margin Speed_motor-N_reduc*Max_speed/Pitch= 85.823\n",
      "           Torque margin Tem_est-Tem_max= 74.559 \n",
      "-----------------------------------------------\n"
     ]
    }
   ],
   "source": [
    "# Initial characteristics before optimization \n",
    "print(\"-----------------------------------------------\")\n",
    "print(\"Initial characteristics before optimization :\")\n",
    "\n",
    "SizingCode(parameters, 'Prt')\n",
    "print(\"-----------------------------------------------\")\n"
   ]
  },
  {
   "cell_type": "markdown",
   "metadata": {},
   "source": [
    "Then we can solve the problem and print of the optimized solution:"
   ]
  },
  {
   "cell_type": "code",
   "execution_count": 87,
   "metadata": {},
   "outputs": [
    {
     "name": "stdout",
     "output_type": "stream",
     "text": [
      "Optimization terminated successfully.    (Exit mode 0)\n",
      "            Current function value: 0.9393256142050361\n",
      "            Iterations: 7\n",
      "            Function evaluations: 28\n",
      "            Gradient evaluations: 7\n",
      "-----------------------------------------------\n",
      "Final characteristics after optimization :\n",
      "* Optimisation variables:\n",
      "           Reduction ratio N_reduc = 4.03\n",
      "           Oversizing coefficient k_oversizing = 1.34\n",
      "* Components characteristics:\n",
      "           Motor torque = 38.52 N.m\n",
      "           Motor mass = 9.39 kg\n",
      "* Constraints (should be >0):\n",
      "           Speed margin Speed_motor-N_reduc*Max_speed/Pitch= 0.000\n",
      "           Torque margin Tem_est-Tem_max= 0.000 \n",
      "-----------------------------------------------\n"
     ]
    }
   ],
   "source": [
    "# optimization with SLSQP algorithm\n",
    "contrainte=lambda x: SizingCode(x, 'Const')\n",
    "objectif=lambda x: SizingCode(x, 'Obj')\n",
    "result = scipy.optimize.fmin_slsqp(func=objectif, x0=parameters, \n",
    "                                   bounds=[(.1,10),(1,10)],\n",
    "                                   f_ieqcons=contrainte, iter=100, acc=1e-8)\n",
    "\n",
    "# Final characteristics after optimization \n",
    "print(\"-----------------------------------------------\")\n",
    "print(\"Final characteristics after optimization :\")\n",
    "\n",
    "SizingCode(result, 'Prt')\n",
    "print(\"-----------------------------------------------\")\n",
    "\n"
   ]
  },
  {
   "cell_type": "code",
   "execution_count": null,
   "metadata": {},
   "outputs": [],
   "source": []
  }
 ],
 "metadata": {
  "kernelspec": {
   "display_name": "Python 3",
   "language": "python",
   "name": "python3"
  },
  "language_info": {
   "codemirror_mode": {
    "name": "ipython",
    "version": 3
   },
   "file_extension": ".py",
   "mimetype": "text/x-python",
   "name": "python",
   "nbconvert_exporter": "python",
   "pygments_lexer": "ipython3",
   "version": "3.6.4"
  }
 },
 "nbformat": 4,
 "nbformat_minor": 2
}
